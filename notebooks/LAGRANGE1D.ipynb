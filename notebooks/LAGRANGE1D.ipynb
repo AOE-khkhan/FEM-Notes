{
 "cells": [
  {
   "cell_type": "markdown",
   "metadata": {},
   "source": [
    "# One-dimensional Lagrange Interpolation"
   ]
  },
  {
   "cell_type": "markdown",
   "metadata": {},
   "source": [
    "The problem of interpolation or finding the value of a function at an arbitrary point $X$ inside a given domain, provided we have discrete known values of the function inside the same domain is at the heart of the finite element method. In this notebooke we use Lagrange interpolation where the approximation $\\hat f(x)$ to the function $f(x)$ is built like:\n",
    "\n",
    "\\begin{equation}\n",
    "\\hat f(x)={L^I}(x)f^I\n",
    "\\end{equation}\n",
    "\n",
    "In the expression above $L^I$ represents the $I$ Lagrange Polynomial of order $n-1$ and $f^1, f^2,,...,f^n$ are the $n$ known values of the function. Here we are using the summation convention over the repeated superscripts.\n",
    "\n",
    "The $I$ Lagrange polynomial is given by the reursive expression:\n",
    "\n",
    "\\begin{equation}\n",
    "{L^I}(x)=\\prod_{J=1, J \\ne I}^{n}{\\frac{{\\left( {x - {x^J}} \\right)}}{{\\left( {{x^I} - {x^J}} \\right)}}} \n",
    "\\end{equation}\n",
    "\n",
    "in the domain $x\\in[-1.0,1.0]$.\n",
    "\n",
    "We wish to interpolate the function $ f(x)=x^3+4x^2-10 $ assuming we know its value at points $x=-1.0$, $x=1.0$ and $x=0.0$."
   ]
  },
  {
   "cell_type": "code",
   "execution_count": 1,
   "metadata": {
    "collapsed": true
   },
   "outputs": [],
   "source": [
    "from __future__ import division\n",
    "import matplotlib.pyplot as plt\n",
    "import numpy as np\n",
    "from sympy import *\n",
    "from sympy import init_printing\n",
    "init_printing()"
   ]
  },
  {
   "cell_type": "markdown",
   "metadata": {},
   "source": [
    "First we use a function to generate the Lagrage polynomial of order $order$ at point $i$"
   ]
  },
  {
   "cell_type": "code",
   "execution_count": 2,
   "metadata": {
    "collapsed": true
   },
   "outputs": [],
   "source": [
    "def LagrangPoly(x,order,i,xi=None):\n",
    "    if xi==None:\n",
    "        xi=symbols('x:%d'%(order+1))\n",
    "    index = range(order+1)\n",
    "    index.pop(i)\n",
    "    return prod([(x-xi[j])/(xi[i]-xi[j]) for j in index])"
   ]
  },
  {
   "cell_type": "markdown",
   "metadata": {},
   "source": [
    "we now define the function $ f(x)=x^3+4x^2-10 $:"
   ]
  },
  {
   "cell_type": "code",
   "execution_count": 3,
   "metadata": {
    "collapsed": true
   },
   "outputs": [],
   "source": [
    "fx = lambda x: x**3+4.0*x**2-10.0"
   ]
  },
  {
   "cell_type": "code",
   "execution_count": 4,
   "metadata": {
    "collapsed": true
   },
   "outputs": [],
   "source": [
    "x= symbols('x')\n",
    "npts = 200\n",
    "xx = np.linspace(-1, 1, npts)\n",
    "yy = np.zeros((npts))\n",
    "zz = np.zeros((npts))\n",
    "fd = np.array([fx(-1.0), fx(1.0) ,fx(0.0)])"
   ]
  },
  {
   "cell_type": "markdown",
   "metadata": {},
   "source": [
    "And obtain the Lagrange polynomials using:\n"
   ]
  },
  {
   "cell_type": "code",
   "execution_count": 5,
   "metadata": {
    "collapsed": false
   },
   "outputs": [],
   "source": [
    "pol = []\n",
    "pol.append(simplify(LagrangPoly(x, 2, 0, [-1,1,0])))\n",
    "pol.append(simplify(LagrangPoly(x, 2, 1, [-1,1,0])))\n",
    "pol.append(simplify(LagrangPoly(x, 2, 2, [-1,1,0])))"
   ]
  },
  {
   "cell_type": "code",
   "execution_count": 6,
   "metadata": {
    "collapsed": false
   },
   "outputs": [
    {
     "name": "stdout",
     "output_type": "stream",
     "text": [
      "x*(x - 1)/2\n",
      "x*(x + 1)/2\n",
      "-x**2 + 1\n"
     ]
    }
   ],
   "source": [
    "print pol[0]\n",
    "print pol[1]\n",
    "print pol[2]"
   ]
  },
  {
   "cell_type": "markdown",
   "metadata": {
    "collapsed": true
   },
   "source": [
    "which are shown in the following plot"
   ]
  },
  {
   "cell_type": "code",
   "execution_count": 6,
   "metadata": {
    "collapsed": true
   },
   "outputs": [],
   "source": [
    "%matplotlib inline"
   ]
  },
  {
   "cell_type": "code",
   "execution_count": 7,
   "metadata": {
    "collapsed": false
   },
   "outputs": [
    {
     "data": {
      "image/png": "[encoded data removed]",
      "text/plain": [
       "<matplotlib.figure.Figure at 0x106e1af10>"
      ]
     },
     "metadata": {},
     "output_type": "display_data"
    }
   ],
   "source": [
    "plt.subplot(2,1,1)\n",
    "for k in range(3):\n",
    "    for i in range(npts):\n",
    "        yy[i] = pol[k].subs([(x, xx[i])])\n",
    "    plt.plot(xx, yy)"
   ]
  },
  {
   "cell_type": "code",
   "execution_count": null,
   "metadata": {
    "collapsed": true
   },
   "outputs": [],
   "source": [
    "plt.show()"
   ]
  },
  {
   "cell_type": "markdown",
   "metadata": {
    "collapsed": true
   },
   "source": [
    "Now we plot the complete approximating polynomial, the actual function and the points where the function was known."
   ]
  },
  {
   "cell_type": "code",
   "execution_count": 8,
   "metadata": {
    "collapsed": false
   },
   "outputs": [
    {
     "data": {
      "image/png": "[encoded data removed]",
      "text/plain": [
       "<matplotlib.figure.Figure at 0x10712b590>"
      ]
     },
     "metadata": {},
     "output_type": "display_data"
    }
   ],
   "source": [
    "for i in range(npts):\n",
    "    yy[i] = fd[0]*pol[0].subs([(x, xx[i])]) + fd[1]*pol[1].subs([(x, xx[i])]) \\\n",
    "            + fd[2]*pol[2].subs([(x, xx[i])])\n",
    "\n",
    "plt.subplot(2,1,2)\n",
    "for i in range(npts):\n",
    "    zz[i]=fx(xx[i])\n",
    "plt.plot([-1, 1, 0], fd, 'ko')\n",
    "plt.plot(xx, yy)\n",
    "plt.plot(xx, zz)\n",
    "plt.show()"
   ]
  },
  {
   "cell_type": "code",
   "execution_count": null,
   "metadata": {
    "collapsed": true
   },
   "outputs": [],
   "source": []
  }
 ],
 "metadata": {
  "celltoolbar": "Raw Cell Format",
  "kernelspec": {
   "display_name": "Python 2",
   "language": "python",
   "name": "python2"
  },
  "language_info": {
   "codemirror_mode": {
    "name": "ipython",
    "version": 2
   },
   "file_extension": ".py",
   "mimetype": "text/x-python",
   "name": "python",
   "nbconvert_exporter": "python",
   "pygments_lexer": "ipython2",
   "version": "2.7.9"
  }
 },
 "nbformat": 4,
 "nbformat_minor": 0
}
