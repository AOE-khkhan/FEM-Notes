{
 "cells": [
  {
   "cell_type": "markdown",
   "metadata": {},
   "source": [
    "# Stiffness matrix for a perfectly square bilinear element."
   ]
  },
  {
   "cell_type": "markdown",
   "metadata": {},
   "source": [
    "### Summary\n",
    "This notebook describes the computational steps required in the computation of the displacement based finite element stiffness matrix for a perfectly square element of side $2h$."
   ]
  },
  {
   "cell_type": "markdown",
   "metadata": {},
   "source": [
    "### Stiffness matrix\n",
    "The displacement based finite elment stiffness matrix can be written like:\n",
    "\n",
    "\n",
    "$${K^{QP}} = \\int\\limits_V {B_{ij}^Q{C_{ijkl}}B_{kl}^PdV} $$\n",
    "\n",
    "where:\n",
    "\n",
    "$$C = \\frac{{E(1 - \\nu )}}{{(1 + \\nu )(1 - 2\\nu )}}\\left[ {\\begin{array}{*{20}{c}}\n",
    "1&{\\frac{\\nu }{{1 - \\nu }}}&0\\\\\n",
    "{\\frac{\\nu }{{1 - \\nu }}}&1&0\\\\\n",
    "0&0&{\\frac{{1 - 2\\nu }}{{2(1 - \\nu )}}}\n",
    "\\end{array}} \\right]$$\n",
    "\n",
    "is the elstic tensor and $B_{ij}^Q$ is the contribution to the strain-displacement interpolator from the $Q$ degree of freedom."
   ]
  },
  {
   "cell_type": "markdown",
   "metadata": {},
   "source": [
    "The 4-noded perfectly square element of side $2h$ is shown in the figure below:"
   ]
  },
  {
   "cell_type": "markdown",
   "metadata": {},
   "source": [
    "<center><img src=\"./lado2h.png\" alt=\"./lado2h.png\" style=\"width:250px\"></center>"
   ]
  },
  {
   "cell_type": "markdown",
   "metadata": {},
   "source": [
    " with each node having 2 degrees of freedom corresponding to the rectangular components of the displacement vector."
   ]
  },
  {
   "cell_type": "markdown",
   "metadata": {},
   "source": [
    "## Finite element approach"
   ]
  },
  {
   "cell_type": "code",
   "execution_count": 27,
   "metadata": {
    "collapsed": true
   },
   "outputs": [],
   "source": [
    "%matplotlib notebook\n",
    "from __future__ import division\n",
    "import numpy as np\n",
    "import sympy as sym\n",
    "import matplotlib.pyplot as plt\n",
    "from IPython.display import Image"
   ]
  },
  {
   "cell_type": "markdown",
   "metadata": {},
   "source": [
    "In the displacement based finite element method we assume that the displacemnts vector at any point $x_i$ over the element are expressed, via interpolation, in terms of the nodal displacements like:\n",
    "\n",
    "\n",
    "$${u_i} = N_i^Q(r){{\\hat u}^Q}$$\n",
    "\n",
    "and where $N_i^K(r)$ is the shape function associated to the $k$-th degree of freedom."
   ]
  },
  {
   "cell_type": "markdown",
   "metadata": {},
   "source": [
    "For the computation of the stiffness matrix ${K^{QP}}$ we require the term $B_{ij}$ relating nodal displacements to strains. This interpolator can be written in terms of drivativs of the shape functions as follows:"
   ]
  },
  {
   "cell_type": "markdown",
   "metadata": {},
   "source": [
    "\n",
    "\n",
    "$$B_{ij}^Q = \\frac{1}{2}\\left( {\\frac{{\\partial N_i^Q}}{{\\partial {x_j}}} + \\frac{{\\partial N_j^Q}}{{\\partial {x_i}}}} \\right).$$\n"
   ]
  },
  {
   "cell_type": "markdown",
   "metadata": {},
   "source": [
    "In the implementation this operator is computed by the subroutine strain-displacement matrix for a 4-noded element stdm4() as listed blow:"
   ]
  },
  {
   "cell_type": "code",
   "execution_count": 28,
   "metadata": {
    "collapsed": true
   },
   "outputs": [],
   "source": [
    "def shape4(x , y , h):\n",
    "    \"\"\"Shape functions for the bi-lineal element.\n",
    "    Parameters\n",
    "    ----------\n",
    "    x , y: Space variables.\n",
    "    h    : Element halwidth.\n",
    "    \n",
    "    Returns\n",
    "    -------\n",
    "    N : Array\n",
    "    \n",
    "    \"\"\"\n",
    "    N=sym.zeros(4)\n",
    "    N = 1/(4*h**2)*sym.Matrix([(h + x)*(h + y),\n",
    "         (h - x)*(h + y),\n",
    "         (h - x)*(h - y),\n",
    "         (h + x)*(h - y)])\n",
    "    \n",
    "    return N"
   ]
  },
  {
   "cell_type": "code",
   "execution_count": 29,
   "metadata": {
    "collapsed": true
   },
   "outputs": [],
   "source": [
    "def stdm4(x , y , h ):\n",
    "    \"\"\"Strain-displacement interpolator for the bi-lineal element.\n",
    "    Parameters\n",
    "    ----------\n",
    "    x , y: Space variables.\n",
    "    h    : Element halwidth.\n",
    "    \n",
    "    Returns\n",
    "    -------\n",
    "    B : Array\n",
    "    \n",
    "    \"\"\"\n",
    "    B = sym.zeros(3,8)\n",
    "    N = shape4(x , y , h)\n",
    "    dhdx=sym.zeros(2,4)\n",
    "    for i in range(4):\n",
    "        dhdx[0,i]=sym.diff(N[i],x)\n",
    "        dhdx[1,i]=sym.diff(N[i],y)\n",
    "#\n",
    "    for i in range(4):\n",
    "        B[0, 2*i]   = dhdx[0, i]\n",
    "        B[1, 2*i+1] = dhdx[1, i]\n",
    "        B[2, 2*i]   = dhdx[1, i]\n",
    "        B[2, 2*i+1] = dhdx[0, i]\n",
    "#\n",
    "    return B"
   ]
  },
  {
   "cell_type": "markdown",
   "metadata": {},
   "source": [
    "We also need to evaluate the elastic constitutive matrix:\n",
    "\n",
    "$$C = \\left[ {\\begin{array}{*{20}{c}}\n",
    "A&B&0\\\\\n",
    "B&A&0\\\\\n",
    "0&0&C\n",
    "\\end{array}} \\right]$$\n",
    "\n",
    "by the subroutine umat().\n"
   ]
  },
  {
   "cell_type": "code",
   "execution_count": 38,
   "metadata": {
    "collapsed": true
   },
   "outputs": [],
   "source": [
    "def umat(nu,E):\n",
    "    \"\"\"Plane stress constitutive tensor.\n",
    "    Parameters\n",
    "    ----------\n",
    "    nu : Posisson ratio.\n",
    "    E  : Young modulus.\n",
    "    \n",
    "    Returns\n",
    "    -------\n",
    "    C : Array. Constitutive matrix.\n",
    "    \n",
    "    \"\"\"\n",
    "#\n",
    "    C=sym.zeros(3,3)\n",
    "    G=E/(1-nu**2)\n",
    "    mnu=(1-nu)/2.0\n",
    "    C[0,0]=G\n",
    "    C[0,1]=nu*G\n",
    "    C[1,0]=C[0,1]\n",
    "    C[1,1]=G\n",
    "    C[2,2]=G*mnu\n",
    "#    \n",
    "    return C"
   ]
  },
  {
   "cell_type": "markdown",
   "metadata": {},
   "source": [
    "### Computation of the stiffness matrix"
   ]
  },
  {
   "cell_type": "code",
   "execution_count": 39,
   "metadata": {
    "collapsed": true
   },
   "outputs": [],
   "source": [
    "C = sym.zeros(3,3)\n",
    "B = sym.zeros(3,8)\n",
    "K = sym.zeros(8,8)"
   ]
  },
  {
   "cell_type": "code",
   "execution_count": 40,
   "metadata": {},
   "outputs": [],
   "source": [
    "x , y = sym.symbols('x y') \n",
    "nu, E = sym.symbols('nu, E')\n",
    "h     = sym.symbols('h')"
   ]
  },
  {
   "cell_type": "code",
   "execution_count": 41,
   "metadata": {},
   "outputs": [],
   "source": [
    "C = umat(nu,E)\n",
    "B = stdm4(x , y , h)\n",
    "K_int = B.T*C*B"
   ]
  },
  {
   "cell_type": "code",
   "execution_count": 42,
   "metadata": {
    "collapsed": true
   },
   "outputs": [],
   "source": [
    "nuu = 1.0/3.0\n",
    "EE  = 8.0/3.0"
   ]
  },
  {
   "cell_type": "code",
   "execution_count": 43,
   "metadata": {
    "collapsed": true
   },
   "outputs": [],
   "source": [
    "for i in range(8):\n",
    "    for j in range(8):\n",
    "        K[i,j] = sym.integrate(K_int[i,j], (x,-h,h), (y,-h,h))\n",
    "kk=K.subs([(E, EE), (nu, nuu), (h, 1.00)])"
   ]
  },
  {
   "cell_type": "code",
   "execution_count": 44,
   "metadata": {},
   "outputs": [
    {
     "data": {
      "text/plain": [
       "Matrix([\n",
       "[  1.33333333333333,                0.5, -0.833333333333333,                  0, -0.666666666666667,               -0.5,  0.166666666666667,                  0],\n",
       "[               0.5,   1.33333333333333,                  0,  0.166666666666667,               -0.5, -0.666666666666667,                  0, -0.833333333333333],\n",
       "[-0.833333333333333,                  0,   1.33333333333333,               -0.5,  0.166666666666667,                  0, -0.666666666666667,                0.5],\n",
       "[                 0,  0.166666666666667,               -0.5,   1.33333333333333,                  0, -0.833333333333333,                0.5, -0.666666666666667],\n",
       "[-0.666666666666667,               -0.5,  0.166666666666667,                  0,   1.33333333333333,                0.5, -0.833333333333333,                  0],\n",
       "[              -0.5, -0.666666666666667,                  0, -0.833333333333333,                0.5,   1.33333333333333,                  0,  0.166666666666667],\n",
       "[ 0.166666666666667,                  0, -0.666666666666667,                0.5, -0.833333333333333,                  0,   1.33333333333333,               -0.5],\n",
       "[                 0, -0.833333333333333,                0.5, -0.666666666666667,                  0,  0.166666666666667,               -0.5,   1.33333333333333]])"
      ]
     },
     "execution_count": 44,
     "metadata": {},
     "output_type": "execute_result"
    }
   ],
   "source": [
    "kk"
   ]
  },
  {
   "cell_type": "code",
   "execution_count": 45,
   "metadata": {},
   "outputs": [
    {
     "data": {
      "text/html": [
       "\n",
       "<link href='http://fonts.googleapis.com/css?family=Fenix' rel='stylesheet' type='text/css'>\n",
       "<link href='http://fonts.googleapis.com/css?family=Alegreya+Sans:100,300,400,500,700,800,900,100italic,300italic,400italic,500italic,700italic,800italic,900italic' rel='stylesheet' type='text/css'>\n",
       "<link href='http://fonts.googleapis.com/css?family=Source+Code+Pro:300,400' rel='stylesheet' type='text/css'>\n",
       "<style>\n",
       "/* Based on Lorena Barba template available at: https://github.com/barbagroup/AeroPython/blob/master/styles/custom.css*/\n",
       "@font-face {\n",
       "font-family: \"Computer Modern\";\n",
       "src: url('http://mirrors.ctan.org/fonts/cm-unicode/fonts/otf/cmunss.otf');\n",
       "}\n",
       "div.cell{\n",
       "width:800px;\n",
       "margin-left:16% !important;\n",
       "margin-right:auto;\n",
       "}\n",
       "h1 {\n",
       "font-family: 'Alegreya Sans', sans-serif;\n",
       "}\n",
       "h2 {\n",
       "font-family: 'Fenix', serif;\n",
       "}\n",
       "h3{\n",
       "font-family: 'Fenix', serif;\n",
       "margin-top:12px;\n",
       "margin-bottom: 3px;\n",
       "}\n",
       "h4{\n",
       "font-family: 'Fenix', serif;\n",
       "}\n",
       "h5 {\n",
       "font-family: 'Alegreya Sans', sans-serif;\n",
       "}\t\n",
       "div.text_cell_render{\n",
       "font-family: 'Alegreya Sans',Computer Modern, \"Helvetica Neue\", Arial, Helvetica, Geneva, sans-serif;\n",
       "line-height: 135%;\n",
       "font-size: 120%;\n",
       "width:600px;\n",
       "margin-left:auto;\n",
       "margin-right:auto;\n",
       "}\n",
       ".CodeMirror{\n",
       "font-family: \"Source Code Pro\";\n",
       "font-size: 90%;\n",
       "}\n",
       "/* .prompt{\n",
       "display: None;\n",
       "}*/\n",
       ".text_cell_render h1 {\n",
       "font-weight: 200;\n",
       "font-size: 50pt;\n",
       "line-height: 100%;\n",
       "color:#CD2305;\n",
       "margin-bottom: 0.5em;\n",
       "margin-top: 0.5em;\n",
       "display: block;\n",
       "}\t\n",
       ".text_cell_render h5 {\n",
       "font-weight: 300;\n",
       "font-size: 16pt;\n",
       "color: #CD2305;\n",
       "font-style: italic;\n",
       "margin-bottom: .5em;\n",
       "margin-top: 0.5em;\n",
       "display: block;\n",
       "}\n",
       ".warning{\n",
       "color: rgb( 240, 20, 20 )\n",
       "}\n",
       "</style>\n",
       "<script>\n",
       "MathJax.Hub.Config({\n",
       "TeX: {\n",
       "extensions: [\"AMSmath.js\"]\n",
       "},\n",
       "tex2jax: {\n",
       "inlineMath: [ ['$','$'], [\"\\\\(\",\"\\\\)\"] ],\n",
       "displayMath: [ ['$$','$$'], [\"\\\\[\",\"\\\\]\"] ]\n",
       "},\n",
       "displayAlign: 'center', // Change this to 'center' to center equations.\n",
       "\"HTML-CSS\": {\n",
       "styles: {'.MathJax_Display': {\"margin\": 4}}\n",
       "}\n",
       "});\n",
       "</script>\n",
       "\n"
      ],
      "text/plain": [
       "<IPython.core.display.HTML object>"
      ]
     },
     "execution_count": 45,
     "metadata": {},
     "output_type": "execute_result"
    }
   ],
   "source": [
    "from IPython.core.display import HTML\n",
    "def css_styling():\n",
    "    styles = open('custom_barba.css', 'r').read()\n",
    "    return HTML(styles)\n",
    "css_styling()"
   ]
  }
 ],
 "metadata": {
  "anaconda-cloud": {},
  "kernelspec": {
   "display_name": "Python [default]",
   "language": "python",
   "name": "python2"
  },
  "language_info": {
   "codemirror_mode": {
    "name": "ipython",
    "version": 2
   },
   "file_extension": ".py",
   "mimetype": "text/x-python",
   "name": "python",
   "nbconvert_exporter": "python",
   "pygments_lexer": "ipython2",
   "version": "2.7.13"
  }
 },
 "nbformat": 4,
 "nbformat_minor": 2
}
