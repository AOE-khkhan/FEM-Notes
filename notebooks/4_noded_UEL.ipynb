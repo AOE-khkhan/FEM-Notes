{
 "cells": [
  {
   "cell_type": "markdown",
   "metadata": {},
   "source": [
    "# Stiffness matrix for a general bilinear element."
   ]
  },
  {
   "cell_type": "markdown",
   "metadata": {},
   "source": [
    "### Summary\n",
    "This notebook describes the computational steps required in the computation of the displacement based finite element stiffness matrix using an isoparametric formulation. In order to show the detailed steps we first describe the computations at a single integration point. These steps are later written in condensed form using available SOLIDSPy subroutines."
   ]
  },
  {
   "cell_type": "markdown",
   "metadata": {},
   "source": [
    "### Stiffness matrix\n",
    "The stiffness matrix in the displacement based finite elment method is defined like:\n",
    "\n",
    "\n",
    "$${K^{QP}} = \\int\\limits_V {B_{ij}^Q{C_{ijkl}}B_{kl}^PdV} $$\n",
    "\n",
    "where:\n",
    "\n",
    "$$C = \\frac{{E(1 - \\nu )}}{{(1 + \\nu )(1 - 2\\nu )}}\\left[ {\\begin{array}{*{20}{c}}\n",
    "1&{\\frac{\\nu }{{1 - \\nu }}}&0\\\\\n",
    "{\\frac{\\nu }{{1 - \\nu }}}&1&0\\\\\n",
    "0&0&{\\frac{{1 - 2\\nu }}{{2(1 - \\nu )}}}\n",
    "\\end{array}} \\right]$$\n",
    "\n",
    "is the elastic tensor and $B_{ij}^Q$ is the strain-displacement interpolator associated to the $Q$-th degree of freedom."
   ]
  },
  {
   "cell_type": "markdown",
   "metadata": {},
   "source": [
    "## Mathematical aspects"
   ]
  },
  {
   "cell_type": "markdown",
   "metadata": {},
   "source": [
    "The isoparametric formulation can be easily understood if one assumes that the physical and the natural spaces are regarded as the result of deforming the element (in the physical space) into a perfect square (in the natural space). This pseudo-deformation process is ilustrated in the figure below:"
   ]
  },
  {
   "cell_type": "markdown",
   "metadata": {},
   "source": [
    "<center><img src=\"img/Picture1.png\" alt=\"Distorted quad\" style=\"width:300px\"></center>"
   ]
  },
  {
   "cell_type": "markdown",
   "metadata": {},
   "source": [
    "and where $t$ is a pseudo-time and ${\\vec r}$ and ${\\vec x}$ denote the natural and physical space respectively. Mathematically, the relation between these spaces can be written like:"
   ]
  },
  {
   "cell_type": "markdown",
   "metadata": {},
   "source": [
    "$${x_i} = {x_i}(r)$$\n",
    "$${r_I} = {r_I}(x).$$"
   ]
  },
  {
   "cell_type": "markdown",
   "metadata": {},
   "source": [
    "Relating differential elements in both spaces we have:"
   ]
  },
  {
   "cell_type": "markdown",
   "metadata": {},
   "source": [
    "$$d{x_i} = \\frac{{\\partial {x_i}}}{{\\partial {r_J}}}d{r_J} \\equiv {J_{iJ}}d{r_J}.$$"
   ]
  },
  {
   "cell_type": "markdown",
   "metadata": {},
   "source": [
    "where $J_{iJ}$ is the Jacobian of the transformation. We can establish the relation between the gradient operators in both spaces like:"
   ]
  },
  {
   "cell_type": "markdown",
   "metadata": {},
   "source": [
    "$$\\frac{\\partial }{{\\partial {x_i}}} = \\frac{{\\partial {r_J}}}{{\\partial {x_i}}}\\frac{\\partial }{{\\partial {r_J}}}$$"
   ]
  },
  {
   "cell_type": "markdown",
   "metadata": {},
   "source": [
    "or in compact notation:\n",
    "$$\\nabla _i^x = J_{iJ}^{ - 1}\\nabla _J^r$$\n",
    "\n",
    "and where\n",
    "\n",
    "$$J_{iJ}^{ - 1} = \\frac{{\\partial {r_J}}}{{\\partial {x_i}}}.$$"
   ]
  },
  {
   "cell_type": "markdown",
   "metadata": {},
   "source": [
    "## Finite element approach"
   ]
  },
  {
   "cell_type": "markdown",
   "metadata": {},
   "source": [
    "In the isoparametric finite element implementation the space variable (i.e., $x_i$) is approximatted via interpolation using the same shape functions $N_i^K(r)$ as in the approximation of the primary variable $u_i$:\n",
    "\n",
    "\n",
    "$${x_i} = N_i^Q(r){{\\hat x}^Q}.$$\n",
    "\n",
    "In the above ${\\hat x}^Q$ corresponds to the physical coordinates of node $Q$. The contribution to the numerical-Jacobian from the Q-th degree of freedom can now be written like:\n",
    "\n",
    "\n",
    "$${J_{iJ}} \\equiv \\frac{{\\partial {x_i}}}{{\\partial {r_J}}} = \\frac{{\\partial N_i^Q(r)}}{{\\partial {r_J}}}{{\\hat x}^Q}.$$"
   ]
  },
  {
   "cell_type": "markdown",
   "metadata": {},
   "source": [
    "For the computation of the term $B_{ij}$ appearing in the stiffness matrix $K$, and relating nodal displacements to displacement gradients according to a particular definition of the strain tensor, we require the fundamental interpolator $L_{ij}^K$. This will allows us to obtain displacement gradients ${u_{i,j}}$ out of the nodal displacements ${\\hat u}^K$.\n",
    "\n",
    "Using the expression for the displacement vector ${u_i}$ in terms of nodal displacements and the definition of the gradient operator derived pteviously, we have for the displacement gradients:\n",
    "\n",
    "$${u_{i,j}} = J_{jQ}^{ - 1}\\nabla _Q^rN_i^K(r){{\\hat u}^K} \\equiv L_{ij}^K{{\\hat u}^K}$$\n",
    "\n",
    "from which we identify the fundamental interpolator $L_{ij}^K(r)$ according to :\n",
    "\n",
    "$$L_{ij}^K(r) = J_{jQ}^{ - 1}N_{i,Q}^K(r).$$\n"
   ]
  },
  {
   "cell_type": "markdown",
   "metadata": {},
   "source": [
    "The strain-displacement operator for a given strain definition can now be assembled using combinations of the fundamental interpolator. Also, notice that in the computation of $L_{ij}^K(r)$ we require the inverse of the Jacobian of the transformation. In the actual implementation we evaluate directly the Jacobian using the interpolated version of $x_i$ and perform the invesrion numerically. For our particular definition of the strain tensor the strain-displacements operator takes the form:\n",
    "\n",
    "$$B_{ij}^Q = \\frac{1}{2}\\left( {L_{ij}^Q + L_{ji}^Q} \\right).$$\n"
   ]
  },
  {
   "cell_type": "markdown",
   "metadata": {},
   "source": [
    "## Computational aspects"
   ]
  },
  {
   "cell_type": "code",
   "execution_count": 1,
   "metadata": {
    "collapsed": true
   },
   "outputs": [],
   "source": [
    "%matplotlib notebook\n",
    "from __future__ import division\n",
    "import numpy as np\n",
    "import matplotlib.pyplot as plt\n",
    "from solidspy import *\n",
    "from IPython.display import Image"
   ]
  },
  {
   "cell_type": "markdown",
   "metadata": {},
   "source": [
    "Let us define ${\\hat x}^Q$ as the vector of nodal points coordinates and $E$ and $\\nu$ as the elastic modulus and Poisson's ratio respectively for the current material."
   ]
  },
  {
   "cell_type": "code",
   "execution_count": 2,
   "metadata": {
    "collapsed": true
   },
   "outputs": [],
   "source": [
    "coord = np.array([[-1.0, -1.0], [1.0, -1.0], [1.0, 1.0], [-1.0, 1.0]])\n",
    "kl = np.zeros([8, 8])\n",
    "B = np.zeros((3, 2*4))\n",
    "enu  = 1.0/3.0\n",
    "Emod = 8.0/3.0\n",
    "C = femutil.umat(enu, Emod)"
   ]
  },
  {
   "cell_type": "markdown",
   "metadata": {},
   "source": [
    "### Computations at a single integration point"
   ]
  },
  {
   "cell_type": "markdown",
   "metadata": {},
   "source": [
    "Retrieve the Gauss points and weights in vectors $XW$ and $XP$ respectively;"
   ]
  },
  {
   "cell_type": "code",
   "execution_count": 3,
   "metadata": {
    "collapsed": true
   },
   "outputs": [],
   "source": [
    "XW, XP = gaussutil.gpoints2x2()"
   ]
  },
  {
   "cell_type": "markdown",
   "metadata": {},
   "source": [
    "and let us consider the natural coordinates at a single point:"
   ]
  },
  {
   "cell_type": "code",
   "execution_count": 4,
   "metadata": {
    "collapsed": true
   },
   "outputs": [],
   "source": [
    "r = XP[0, 0]\n",
    "s = XP[0, 1]\n",
    "alf = XW[0]"
   ]
  },
  {
   "cell_type": "markdown",
   "metadata": {},
   "source": [
    "The first step involves the computation of the Jacobian operator and its inverse at the Gauss point:\n",
    "\n",
    "$$J = \\left[ {\\begin{array}{*{20}{c}}\n",
    "{\\frac{{\\partial x}}{{\\partial r}}}&{\\frac{{\\partial y}}{{\\partial r}}}\\\\\n",
    "{\\frac{{\\partial x}}{{\\partial s}}}&{\\frac{{\\partial s}}{{\\partial s}}}\n",
    "\\end{array}} \\right] \\equiv \\left[ {\\begin{array}{*{20}{c}}\n",
    "{}&{\\frac{{\\partial {N^Q}}}{{\\partial r}}}&{}\\\\\n",
    "{...}&{}&{...}\\\\\n",
    "{}&{\\frac{{\\partial {N^Q}}}{{\\partial s}}}&{}\n",
    "\\end{array}} \\right]\\left\\{ {\\begin{array}{*{20}{c}}\n",
    ".&.\\\\\n",
    ".&.\\\\\n",
    "{{x^Q}}&{{y^Q}}\\\\\n",
    ".&.\\\\\n",
    ".&.\n",
    "\\end{array}} \\right\\}$$\n"
   ]
  },
  {
   "cell_type": "code",
   "execution_count": 5,
   "metadata": {
    "collapsed": true
   },
   "outputs": [],
   "source": [
    "dhdx = 0.25*np.array([\n",
    "        [s - 1, -s + 1, s + 1, -s - 1],\n",
    "        [r - 1, -r - 1, r + 1, -r + 1]])\n",
    "det, jaco_inv = femutil.jacoper(dhdx, coord)"
   ]
  },
  {
   "cell_type": "markdown",
   "metadata": {},
   "source": [
    "Denoting the terms of the gradient operator in the physical space like ${L_x^Q}$ and ${L_Y^Q}$ respectivly these can be obtained like:"
   ]
  },
  {
   "cell_type": "markdown",
   "metadata": {},
   "source": [
    "$$\\left\\{ {\\begin{array}{*{20}{c}}\n",
    "{L_x^Q}\\\\\n",
    "{}\\\\\n",
    "{L_y^Q}\n",
    "\\end{array}} \\right\\} = {\\left[ J \\right]^{ - 1}}\\left\\{ {\\begin{array}{*{20}{c}}\n",
    "{}&{\\frac{{\\partial {N^Q}}}{{\\partial r}}}&{}\\\\\n",
    "{...}&{}&{...}\\\\\n",
    "{}&{\\frac{{\\partial {N^Q}}}{{\\partial s}}}&{}\n",
    "\\end{array}} \\right\\}$$"
   ]
  },
  {
   "cell_type": "code",
   "execution_count": 6,
   "metadata": {
    "collapsed": true
   },
   "outputs": [],
   "source": [
    "dhdx = np.dot(jaco_inv, dhdx)"
   ]
  },
  {
   "cell_type": "markdown",
   "metadata": {},
   "source": [
    "allowing us to assemble the strain-displacement operator $B$ and to compute the strain tensor at the Gauss point as:\n",
    "\n",
    "$$\\left\\{ {\\begin{array}{*{20}{c}}\n",
    "{\\frac{{\\partial u}}{{\\partial x}}}\\\\\n",
    "{\\frac{{\\partial v}}{{\\partial y}}}\\\\\n",
    "{\\frac{{\\partial u}}{{\\partial y}} + \\frac{{\\partial v}}{{\\partial x}}}\n",
    "\\end{array}} \\right\\} = \\left[ {\\begin{array}{*{20}{c}}\n",
    "{}&{L_x^Q}&0&{}\\\\\n",
    "{...}&0&{L_y^Q}&{...}\\\\\n",
    "{}&{L_y^Q}&{L_x^Q}&{}\n",
    "\\end{array}} \\right]\\left\\{ {\\begin{array}{*{20}{c}}\n",
    ".\\\\\n",
    ".\\\\\n",
    ".\\\\\n",
    "{{u^Q}}\\\\\n",
    "{{v^Q}}\\\\\n",
    ".\\\\\n",
    ".\\\\\n",
    ".\n",
    "\\end{array}} \\right\\}$$"
   ]
  },
  {
   "cell_type": "code",
   "execution_count": 7,
   "metadata": {
    "collapsed": true
   },
   "outputs": [],
   "source": [
    "B[0, ::2]  = dhdx[0, :]\n",
    "B[1, 1::2] = dhdx[1, :]\n",
    "B[2, ::2]  = dhdx[1, :]\n",
    "B[2, 1::2] = dhdx[0, :]"
   ]
  },
  {
   "cell_type": "markdown",
   "metadata": {},
   "source": [
    "The stiffness matrix at the current integration point is computed according to:\n",
    "\n",
    "$$k = {B^T}(r,s)CB(r,s)\\left\\| {J(r,s)} \\right\\|\\alpha $$"
   ]
  },
  {
   "cell_type": "code",
   "execution_count": 8,
   "metadata": {
    "collapsed": true
   },
   "outputs": [],
   "source": [
    "kl = np.dot(np.dot(B.T,C), B)*alf*det"
   ]
  },
  {
   "cell_type": "code",
   "execution_count": 9,
   "metadata": {},
   "outputs": [
    {
     "data": {
      "text/plain": [
       "array([[ 0.189,  0.083,  0.008, -0.031, -0.167, -0.167, -0.031,  0.114],\n",
       "       [ 0.083,  0.478, -0.031,  0.114, -0.167, -0.167,  0.114, -0.425],\n",
       "       [ 0.008, -0.031,  0.045, -0.022,  0.114, -0.031, -0.167,  0.083],\n",
       "       [-0.031,  0.114, -0.022,  0.045, -0.031,  0.008,  0.083, -0.167],\n",
       "       [-0.167, -0.167,  0.114, -0.031,  0.478,  0.083, -0.425,  0.114],\n",
       "       [-0.167, -0.167, -0.031,  0.008,  0.083,  0.189,  0.114, -0.031],\n",
       "       [-0.031,  0.114, -0.167,  0.083, -0.425,  0.114,  0.622, -0.311],\n",
       "       [ 0.114, -0.425,  0.083, -0.167,  0.114, -0.031, -0.311,  0.622]])"
      ]
     },
     "execution_count": 9,
     "metadata": {},
     "output_type": "execute_result"
    }
   ],
   "source": [
    "np.round(kl, 3)"
   ]
  },
  {
   "cell_type": "markdown",
   "metadata": {},
   "source": [
    "## Complete loop over the Gauss points. UEL() subroutine."
   ]
  },
  {
   "cell_type": "markdown",
   "metadata": {},
   "source": [
    "We now compute the complete stiffness matrix after looping along all the Gauss points. In the actual implementation Python uses the strain-displacement matrix subroutine stdm4n() contained within the femutils module. In SOLIDSPy the resulting block of code is implemented in the form of a single subroutine termed UEL()."
   ]
  },
  {
   "cell_type": "code",
   "execution_count": 10,
   "metadata": {
    "collapsed": true
   },
   "outputs": [],
   "source": [
    "kl = np.zeros([8, 8])\n",
    "B  = np.zeros([3, 8])\n",
    "XW, XP = gaussutil.gpoints2x2()\n",
    "ngpts = 4\n",
    "for i in range(ngpts):\n",
    "    ri = XP[i, 0]\n",
    "    si = XP[i, 1]\n",
    "    alf = XW[i]\n",
    "    ddet, B = femutil.stdm4NQ(ri , si , coord)\n",
    "    kl = kl + np.dot(np.dot(B.T,C), B)*alf*ddet"
   ]
  },
  {
   "cell_type": "markdown",
   "metadata": {},
   "source": [
    "Final stiffness matrix"
   ]
  },
  {
   "cell_type": "code",
   "execution_count": 13,
   "metadata": {},
   "outputs": [
    {
     "data": {
      "text/plain": [
       "array([[ 1.333,  0.5  , -0.833,  0.   , -0.667, -0.5  ,  0.167,  0.   ],\n",
       "       [ 0.5  ,  1.333,  0.   ,  0.167, -0.5  , -0.667,  0.   , -0.833],\n",
       "       [-0.833,  0.   ,  1.333, -0.5  ,  0.167, -0.   , -0.667,  0.5  ],\n",
       "       [ 0.   ,  0.167, -0.5  ,  1.333, -0.   , -0.833,  0.5  , -0.667],\n",
       "       [-0.667, -0.5  ,  0.167, -0.   ,  1.333,  0.5  , -0.833,  0.   ],\n",
       "       [-0.5  , -0.667, -0.   , -0.833,  0.5  ,  1.333,  0.   ,  0.167],\n",
       "       [ 0.167,  0.   , -0.667,  0.5  , -0.833,  0.   ,  1.333, -0.5  ],\n",
       "       [ 0.   , -0.833,  0.5  , -0.667,  0.   ,  0.167, -0.5  ,  1.333]])"
      ]
     },
     "execution_count": 13,
     "metadata": {},
     "output_type": "execute_result"
    }
   ],
   "source": [
    "np.round(kl , 3)"
   ]
  },
  {
   "cell_type": "code",
   "execution_count": 14,
   "metadata": {},
   "outputs": [
    {
     "data": {
      "text/html": [
       "\n",
       "<link href='http://fonts.googleapis.com/css?family=Fenix' rel='stylesheet' type='text/css'>\n",
       "<link href='http://fonts.googleapis.com/css?family=Alegreya+Sans:100,300,400,500,700,800,900,100italic,300italic,400italic,500italic,700italic,800italic,900italic' rel='stylesheet' type='text/css'>\n",
       "<link href='http://fonts.googleapis.com/css?family=Source+Code+Pro:300,400' rel='stylesheet' type='text/css'>\n",
       "<style>\n",
       "/* Based on Lorena Barba template available at: https://github.com/barbagroup/AeroPython/blob/master/styles/custom.css*/\n",
       "@font-face {\n",
       "font-family: \"Computer Modern\";\n",
       "src: url('http://mirrors.ctan.org/fonts/cm-unicode/fonts/otf/cmunss.otf');\n",
       "}\n",
       "div.cell{\n",
       "width:800px;\n",
       "margin-left:16% !important;\n",
       "margin-right:auto;\n",
       "}\n",
       "h1 {\n",
       "font-family: 'Alegreya Sans', sans-serif;\n",
       "}\n",
       "h2 {\n",
       "font-family: 'Fenix', serif;\n",
       "}\n",
       "h3{\n",
       "font-family: 'Fenix', serif;\n",
       "margin-top:12px;\n",
       "margin-bottom: 3px;\n",
       "}\n",
       "h4{\n",
       "font-family: 'Fenix', serif;\n",
       "}\n",
       "h5 {\n",
       "font-family: 'Alegreya Sans', sans-serif;\n",
       "}\t\n",
       "div.text_cell_render{\n",
       "font-family: 'Alegreya Sans',Computer Modern, \"Helvetica Neue\", Arial, Helvetica, Geneva, sans-serif;\n",
       "line-height: 135%;\n",
       "font-size: 120%;\n",
       "width:600px;\n",
       "margin-left:auto;\n",
       "margin-right:auto;\n",
       "}\n",
       ".CodeMirror{\n",
       "font-family: \"Source Code Pro\";\n",
       "font-size: 90%;\n",
       "}\n",
       "/* .prompt{\n",
       "display: None;\n",
       "}*/\n",
       ".text_cell_render h1 {\n",
       "font-weight: 200;\n",
       "font-size: 50pt;\n",
       "line-height: 100%;\n",
       "color:#CD2305;\n",
       "margin-bottom: 0.5em;\n",
       "margin-top: 0.5em;\n",
       "display: block;\n",
       "}\t\n",
       ".text_cell_render h5 {\n",
       "font-weight: 300;\n",
       "font-size: 16pt;\n",
       "color: #CD2305;\n",
       "font-style: italic;\n",
       "margin-bottom: .5em;\n",
       "margin-top: 0.5em;\n",
       "display: block;\n",
       "}\n",
       ".warning{\n",
       "color: rgb( 240, 20, 20 )\n",
       "}\n",
       "</style>\n",
       "<script>\n",
       "MathJax.Hub.Config({\n",
       "TeX: {\n",
       "extensions: [\"AMSmath.js\"]\n",
       "},\n",
       "tex2jax: {\n",
       "inlineMath: [ ['$','$'], [\"\\\\(\",\"\\\\)\"] ],\n",
       "displayMath: [ ['$$','$$'], [\"\\\\[\",\"\\\\]\"] ]\n",
       "},\n",
       "displayAlign: 'center', // Change this to 'center' to center equations.\n",
       "\"HTML-CSS\": {\n",
       "styles: {'.MathJax_Display': {\"margin\": 4}}\n",
       "}\n",
       "});\n",
       "</script>\n",
       "\n"
      ],
      "text/plain": [
       "<IPython.core.display.HTML object>"
      ]
     },
     "execution_count": 14,
     "metadata": {},
     "output_type": "execute_result"
    }
   ],
   "source": [
    "from IPython.core.display import HTML\n",
    "def css_styling():\n",
    "    styles = open('../styles/custom_barba.css', 'r').read()\n",
    "    return HTML(styles)\n",
    "css_styling()"
   ]
  },
  {
   "cell_type": "code",
   "execution_count": null,
   "metadata": {
    "collapsed": true
   },
   "outputs": [],
   "source": []
  }
 ],
 "metadata": {
  "anaconda-cloud": {},
  "kernelspec": {
   "display_name": "Python [default]",
   "language": "python",
   "name": "python2"
  },
  "language_info": {
   "codemirror_mode": {
    "name": "ipython",
    "version": 2
   },
   "file_extension": ".py",
   "mimetype": "text/x-python",
   "name": "python",
   "nbconvert_exporter": "python",
   "pygments_lexer": "ipython2",
   "version": "2.7.13"
  }
 },
 "nbformat": 4,
 "nbformat_minor": 2
}
