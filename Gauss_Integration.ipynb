{
 "metadata": {
  "name": "",
  "signature": "sha256:0e39239cee8a79f0ec51fa6ee763eac84fe52046e90a2958e88af644d5328218"
 },
 "nbformat": 3,
 "nbformat_minor": 0,
 "worksheets": [
  {
   "cells": [
    {
     "cell_type": "heading",
     "level": 1,
     "metadata": {},
     "source": [
      "Gauss integration of Finite Elements"
     ]
    },
    {
     "cell_type": "code",
     "collapsed": false,
     "input": [
      "from __future__ import division\n",
      "from sympy import *\n",
      "from sympy import init_printing\n",
      "init_printing()"
     ],
     "language": "python",
     "metadata": {},
     "outputs": [],
     "prompt_number": 1
    },
    {
     "cell_type": "code",
     "collapsed": false,
     "input": [
      "r, s, t, x, y, z = symbols('r s t x y z') \n",
      "k, m, n = symbols('k m n', integer=True)\n",
      "rho, nu, E = symbols('rho, nu, E')"
     ],
     "language": "python",
     "metadata": {},
     "outputs": [],
     "prompt_number": 2
    },
    {
     "cell_type": "heading",
     "level": 2,
     "metadata": {},
     "source": [
      "Predefinition"
     ]
    },
    {
     "cell_type": "markdown",
     "metadata": {},
     "source": [
      "The constitutive model tensor in Voigt notation (plane strain) is\n",
      "$$C = \\frac{\\left( 1-\\nu\\right) \\,E}{\\left( 1-2\\,\\nu\\right) \\,\\left( \\nu+1\\right) }\n",
      "\\begin{pmatrix}1 & \\frac{\\nu}{1-\\nu} & 0\\\\\n",
      "\\frac{\\nu}{1-\\nu} & 1 & 0\\\\\n",
      "0 & 0 & \\frac{1-2\\,\\nu}{2\\,\\left( 1-\\nu\\right) }\\end{pmatrix}$$\n",
      "\n",
      "But for simplicity we are going to use\n",
      "$$\\hat{C} = \\frac{C \\left( 1-2\\,\\nu\\right) \\,\\left( \\nu+1\\right)}{E} = \n",
      "\\begin{pmatrix}1-\\nu & \\nu & 0\\\\\n",
      "\\nu & 1-\\nu & 0\\\\\n",
      "0 & 0 & \\frac{1-2\\,\\nu}{2}\n",
      "\\end{pmatrix}$$"
     ]
    },
    {
     "cell_type": "code",
     "collapsed": false,
     "input": [
      "C = Matrix([[1 -nu, nu, 0],\n",
      "           [nu, 1 - nu, 0],\n",
      "           [0, 0, 1 - 2*nu]])"
     ],
     "language": "python",
     "metadata": {},
     "outputs": [],
     "prompt_number": 3
    },
    {
     "cell_type": "markdown",
     "metadata": {},
     "source": [
      "Interpolation functions\n",
      "```\n",
      "2----1\n",
      "|    |\n",
      "|    |\n",
      "3----4\n",
      "```"
     ]
    },
    {
     "cell_type": "code",
     "collapsed": false,
     "input": [
      "N = S(1)/4*Matrix([(1 + r)*(1 + s),\n",
      "         (1 - r)*(1 + s),\n",
      "         (1 - r)*(1 - s),\n",
      "         (1 + r)*(1 - s)])\n",
      "N"
     ],
     "language": "python",
     "metadata": {},
     "outputs": [
      {
       "latex": [
        "$$\\left[\\begin{matrix}\\frac{1}{4} \\left(r + 1\\right) \\left(s + 1\\right)\\\\\\frac{1}{4} \\left(- r + 1\\right) \\left(s + 1\\right)\\\\\\frac{1}{4} \\left(- r + 1\\right) \\left(- s + 1\\right)\\\\\\frac{1}{4} \\left(r + 1\\right) \\left(- s + 1\\right)\\end{matrix}\\right]$$"
       ],
       "metadata": {},
       "output_type": "pyout",
       "png": "[encoded data removed]",
       "prompt_number": 4,
       "text": [
        "\u23a1 (r + 1)\u22c5(s + 1) \u23a4\n",
        "\u23a2 \u2500\u2500\u2500\u2500\u2500\u2500\u2500\u2500\u2500\u2500\u2500\u2500\u2500\u2500\u2500 \u23a5\n",
        "\u23a2        4        \u23a5\n",
        "\u23a2                 \u23a5\n",
        "\u23a2(-r + 1)\u22c5(s + 1) \u23a5\n",
        "\u23a2\u2500\u2500\u2500\u2500\u2500\u2500\u2500\u2500\u2500\u2500\u2500\u2500\u2500\u2500\u2500\u2500 \u23a5\n",
        "\u23a2       4         \u23a5\n",
        "\u23a2                 \u23a5\n",
        "\u23a2(-r + 1)\u22c5(-s + 1)\u23a5\n",
        "\u23a2\u2500\u2500\u2500\u2500\u2500\u2500\u2500\u2500\u2500\u2500\u2500\u2500\u2500\u2500\u2500\u2500\u2500\u23a5\n",
        "\u23a2        4        \u23a5\n",
        "\u23a2                 \u23a5\n",
        "\u23a2(r + 1)\u22c5(-s + 1) \u23a5\n",
        "\u23a2\u2500\u2500\u2500\u2500\u2500\u2500\u2500\u2500\u2500\u2500\u2500\u2500\u2500\u2500\u2500\u2500 \u23a5\n",
        "\u23a3       4         \u23a6"
       ]
      }
     ],
     "prompt_number": 4
    },
    {
     "cell_type": "markdown",
     "metadata": {},
     "source": [
      "Interpolation matrix "
     ]
    },
    {
     "cell_type": "code",
     "collapsed": false,
     "input": [
      "H = zeros(2,8)\n",
      "for i in range(4):\n",
      "    H[0, 2*i] = N[i]\n",
      "    H[1, 2*i + 1] = N[i]\n",
      "    \n",
      "H"
     ],
     "language": "python",
     "metadata": {},
     "outputs": [
      {
       "latex": [
        "$$\\left[\\begin{matrix}\\frac{1}{4} \\left(r + 1\\right) \\left(s + 1\\right) & 0 & \\frac{1}{4} \\left(- r + 1\\right) \\left(s + 1\\right) & 0 & \\frac{1}{4} \\left(- r + 1\\right) \\left(- s + 1\\right) & 0 & \\frac{1}{4} \\left(r + 1\\right) \\left(- s + 1\\right) & 0\\\\0 & \\frac{1}{4} \\left(r + 1\\right) \\left(s + 1\\right) & 0 & \\frac{1}{4} \\left(- r + 1\\right) \\left(s + 1\\right) & 0 & \\frac{1}{4} \\left(- r + 1\\right) \\left(- s + 1\\right) & 0 & \\frac{1}{4} \\left(r + 1\\right) \\left(- s + 1\\right)\\end{matrix}\\right]$$"
       ],
       "metadata": {},
       "output_type": "pyout",
       "png": "[encoded data removed]",
       "prompt_number": 5,
       "text": [
        "\u23a1(r + 1)\u22c5(s + 1)                   (-r + 1)\u22c5(s + 1)                    (-r + 1\n",
        "\u23a2\u2500\u2500\u2500\u2500\u2500\u2500\u2500\u2500\u2500\u2500\u2500\u2500\u2500\u2500\u2500         0         \u2500\u2500\u2500\u2500\u2500\u2500\u2500\u2500\u2500\u2500\u2500\u2500\u2500\u2500\u2500\u2500         0          \u2500\u2500\u2500\u2500\u2500\u2500\u2500\n",
        "\u23a2       4                                 4                                   \n",
        "\u23a2                                                                             \n",
        "\u23a2                 (r + 1)\u22c5(s + 1)                    (-r + 1)\u22c5(s + 1)         \n",
        "\u23a2       0         \u2500\u2500\u2500\u2500\u2500\u2500\u2500\u2500\u2500\u2500\u2500\u2500\u2500\u2500\u2500         0          \u2500\u2500\u2500\u2500\u2500\u2500\u2500\u2500\u2500\u2500\u2500\u2500\u2500\u2500\u2500\u2500         \n",
        "\u23a3                        4                                  4                 \n",
        "\n",
        ")\u22c5(-s + 1)                     (r + 1)\u22c5(-s + 1)                  \u23a4\n",
        "\u2500\u2500\u2500\u2500\u2500\u2500\u2500\u2500\u2500\u2500          0          \u2500\u2500\u2500\u2500\u2500\u2500\u2500\u2500\u2500\u2500\u2500\u2500\u2500\u2500\u2500\u2500         0        \u23a5\n",
        " 4                                    4                          \u23a5\n",
        "                                                                 \u23a5\n",
        "            (-r + 1)\u22c5(-s + 1)                    (r + 1)\u22c5(-s + 1)\u23a5\n",
        " 0          \u2500\u2500\u2500\u2500\u2500\u2500\u2500\u2500\u2500\u2500\u2500\u2500\u2500\u2500\u2500\u2500\u2500         0          \u2500\u2500\u2500\u2500\u2500\u2500\u2500\u2500\u2500\u2500\u2500\u2500\u2500\u2500\u2500\u2500\u23a5\n",
        "                    4                                   4        \u23a6"
       ]
      }
     ],
     "prompt_number": 5
    },
    {
     "cell_type": "markdown",
     "metadata": {},
     "source": [
      "Mass matrix integrand\n",
      "$$M_\\text{int}=H^TH$$"
     ]
    },
    {
     "cell_type": "code",
     "collapsed": false,
     "input": [
      "M_int = H.T*H"
     ],
     "language": "python",
     "metadata": {},
     "outputs": [],
     "prompt_number": 6
    },
    {
     "cell_type": "markdown",
     "metadata": {},
     "source": [
      "Derivatives interpolation matrix"
     ]
    },
    {
     "cell_type": "code",
     "collapsed": false,
     "input": [
      "dHdr = zeros(2,4)\n",
      "for i in range(4):\n",
      "    dHdr[0,i] = diff(N[i],r)\n",
      "    dHdr[1,i] = diff(N[i],s)\n",
      "\n",
      "jaco = eye(2)  # Jacobian matrix, identity for now\n",
      "dHdx = jaco*dHdr\n",
      "\n",
      "B = zeros(3,8)\n",
      "for i in range(4):\n",
      "    B[0, 2*i] = dHdx[0, i]\n",
      "    B[1, 2*i+1] = dHdx[1, i]\n",
      "    B[2, 2*i] = dHdx[1, i]\n",
      "    B[2, 2*i+1] = dHdx[0, i]\n",
      "    \n",
      "B"
     ],
     "language": "python",
     "metadata": {},
     "outputs": [
      {
       "latex": [
        "$$\\left[\\begin{matrix}\\frac{s}{4} + \\frac{1}{4} & 0 & - \\frac{s}{4} - \\frac{1}{4} & 0 & \\frac{s}{4} - \\frac{1}{4} & 0 & - \\frac{s}{4} + \\frac{1}{4} & 0\\\\0 & \\frac{r}{4} + \\frac{1}{4} & 0 & - \\frac{r}{4} + \\frac{1}{4} & 0 & \\frac{r}{4} - \\frac{1}{4} & 0 & - \\frac{r}{4} - \\frac{1}{4}\\\\\\frac{r}{4} + \\frac{1}{4} & \\frac{s}{4} + \\frac{1}{4} & - \\frac{r}{4} + \\frac{1}{4} & - \\frac{s}{4} - \\frac{1}{4} & \\frac{r}{4} - \\frac{1}{4} & \\frac{s}{4} - \\frac{1}{4} & - \\frac{r}{4} - \\frac{1}{4} & - \\frac{s}{4} + \\frac{1}{4}\\end{matrix}\\right]$$"
       ],
       "metadata": {},
       "output_type": "pyout",
       "png": "[encoded data removed]",
       "prompt_number": 7,
       "text": [
        "\u23a1s   1           s   1           s   1           s   1         \u23a4\n",
        "\u23a2\u2500 + \u2500    0    - \u2500 - \u2500     0     \u2500 - \u2500    0    - \u2500 + \u2500     0   \u23a5\n",
        "\u23a24   4           4   4           4   4           4   4         \u23a5\n",
        "\u23a2                                                              \u23a5\n",
        "\u23a2       r   1             r   1         r   1             r   1\u23a5\n",
        "\u23a2  0    \u2500 + \u2500     0     - \u2500 + \u2500    0    \u2500 - \u2500     0     - \u2500 - \u2500\u23a5\n",
        "\u23a2       4   4             4   4         4   4             4   4\u23a5\n",
        "\u23a2                                                              \u23a5\n",
        "\u23a2r   1  s   1    r   1    s   1  r   1  s   1    r   1    s   1\u23a5\n",
        "\u23a2\u2500 + \u2500  \u2500 + \u2500  - \u2500 + \u2500  - \u2500 - \u2500  \u2500 - \u2500  \u2500 - \u2500  - \u2500 - \u2500  - \u2500 + \u2500\u23a5\n",
        "\u23a34   4  4   4    4   4    4   4  4   4  4   4    4   4    4   4\u23a6"
       ]
      }
     ],
     "prompt_number": 7
    },
    {
     "cell_type": "markdown",
     "metadata": {},
     "source": [
      "Stiffness matrix integrand\n",
      "$$K_\\text{int} = B^T C B$$"
     ]
    },
    {
     "cell_type": "code",
     "collapsed": false,
     "input": [
      "K_int = B.T*C*B"
     ],
     "language": "python",
     "metadata": {},
     "outputs": [],
     "prompt_number": 8
    },
    {
     "cell_type": "heading",
     "level": 2,
     "metadata": {},
     "source": [
      "Analytic integration"
     ]
    },
    {
     "cell_type": "markdown",
     "metadata": {},
     "source": [
      "The mass matrix is obtaining integrating the product of the interpolator matrix with itself, i.e.\n",
      "$$\\begin{align*}\n",
      "M &= \\int\\limits_{-1}^{1}\\int\\limits_{-1}^{1} M_\\text{int} dr\\, ds\\\\\n",
      " &= \\int\\limits_{-1}^{1}\\int\\limits_{-1}^{1} H^T H\\, dr\\, ds \\enspace .\n",
      "\\end{align*}$$"
     ]
    },
    {
     "cell_type": "code",
     "collapsed": false,
     "input": [
      "M = zeros(8,8)\n",
      "for i in range(8):\n",
      "    for j in range(8):\n",
      "        M[i,j] = rho*integrate(M_int[i,j],(r,-1,1), (s,-1,1))\n",
      "        \n",
      "M"
     ],
     "language": "python",
     "metadata": {},
     "outputs": [
      {
       "latex": [
        "$$\\left[\\begin{matrix}\\frac{4 \\rho}{9} & 0 & \\frac{2 \\rho}{9} & 0 & \\frac{\\rho}{9} & 0 & \\frac{2 \\rho}{9} & 0\\\\0 & \\frac{4 \\rho}{9} & 0 & \\frac{2 \\rho}{9} & 0 & \\frac{\\rho}{9} & 0 & \\frac{2 \\rho}{9}\\\\\\frac{2 \\rho}{9} & 0 & \\frac{4 \\rho}{9} & 0 & \\frac{2 \\rho}{9} & 0 & \\frac{\\rho}{9} & 0\\\\0 & \\frac{2 \\rho}{9} & 0 & \\frac{4 \\rho}{9} & 0 & \\frac{2 \\rho}{9} & 0 & \\frac{\\rho}{9}\\\\\\frac{\\rho}{9} & 0 & \\frac{2 \\rho}{9} & 0 & \\frac{4 \\rho}{9} & 0 & \\frac{2 \\rho}{9} & 0\\\\0 & \\frac{\\rho}{9} & 0 & \\frac{2 \\rho}{9} & 0 & \\frac{4 \\rho}{9} & 0 & \\frac{2 \\rho}{9}\\\\\\frac{2 \\rho}{9} & 0 & \\frac{\\rho}{9} & 0 & \\frac{2 \\rho}{9} & 0 & \\frac{4 \\rho}{9} & 0\\\\0 & \\frac{2 \\rho}{9} & 0 & \\frac{\\rho}{9} & 0 & \\frac{2 \\rho}{9} & 0 & \\frac{4 \\rho}{9}\\end{matrix}\\right]$$"
       ],
       "metadata": {},
       "output_type": "pyout",
       "png": "[encoded data removed]",
       "prompt_number": 9,
       "text": [
        "\u23a14\u22c5\u03c1       2\u22c5\u03c1        \u03c1        2\u22c5\u03c1     \u23a4\n",
        "\u23a2\u2500\u2500\u2500   0   \u2500\u2500\u2500   0    \u2500    0   \u2500\u2500\u2500   0 \u23a5\n",
        "\u23a2 9         9         9         9      \u23a5\n",
        "\u23a2                                      \u23a5\n",
        "\u23a2     4\u22c5\u03c1       2\u22c5\u03c1        \u03c1        2\u22c5\u03c1\u23a5\n",
        "\u23a2 0   \u2500\u2500\u2500   0   \u2500\u2500\u2500   0    \u2500    0   \u2500\u2500\u2500\u23a5\n",
        "\u23a2      9         9         9         9 \u23a5\n",
        "\u23a2                                      \u23a5\n",
        "\u23a22\u22c5\u03c1       4\u22c5\u03c1       2\u22c5\u03c1        \u03c1      \u23a5\n",
        "\u23a2\u2500\u2500\u2500   0   \u2500\u2500\u2500   0   \u2500\u2500\u2500   0    \u2500    0 \u23a5\n",
        "\u23a2 9         9         9         9      \u23a5\n",
        "\u23a2                                      \u23a5\n",
        "\u23a2     2\u22c5\u03c1       4\u22c5\u03c1       2\u22c5\u03c1        \u03c1 \u23a5\n",
        "\u23a2 0   \u2500\u2500\u2500   0   \u2500\u2500\u2500   0   \u2500\u2500\u2500   0    \u2500 \u23a5\n",
        "\u23a2      9         9         9         9 \u23a5\n",
        "\u23a2                                      \u23a5\n",
        "\u23a2 \u03c1        2\u22c5\u03c1       4\u22c5\u03c1       2\u22c5\u03c1     \u23a5\n",
        "\u23a2 \u2500    0   \u2500\u2500\u2500   0   \u2500\u2500\u2500   0   \u2500\u2500\u2500   0 \u23a5\n",
        "\u23a2 9         9         9         9      \u23a5\n",
        "\u23a2                                      \u23a5\n",
        "\u23a2      \u03c1        2\u22c5\u03c1       4\u22c5\u03c1       2\u22c5\u03c1\u23a5\n",
        "\u23a2 0    \u2500    0   \u2500\u2500\u2500   0   \u2500\u2500\u2500   0   \u2500\u2500\u2500\u23a5\n",
        "\u23a2      9         9         9         9 \u23a5\n",
        "\u23a2                                      \u23a5\n",
        "\u23a22\u22c5\u03c1        \u03c1        2\u22c5\u03c1       4\u22c5\u03c1     \u23a5\n",
        "\u23a2\u2500\u2500\u2500   0    \u2500    0   \u2500\u2500\u2500   0   \u2500\u2500\u2500   0 \u23a5\n",
        "\u23a2 9         9         9         9      \u23a5\n",
        "\u23a2                                      \u23a5\n",
        "\u23a2     2\u22c5\u03c1        \u03c1        2\u22c5\u03c1       4\u22c5\u03c1\u23a5\n",
        "\u23a2 0   \u2500\u2500\u2500   0    \u2500    0   \u2500\u2500\u2500   0   \u2500\u2500\u2500\u23a5\n",
        "\u23a3      9         9         9         9 \u23a6"
       ]
      }
     ],
     "prompt_number": 9
    },
    {
     "cell_type": "markdown",
     "metadata": {},
     "source": [
      "The stiffness matrix is obtained integrating the product of the interpolator-derivatives (displacement-to-strains) matrix with the constitutive tensor and itself, i.e.\n",
      "$$\\begin{align*}\n",
      "K &= \\int\\limits_{-1}^{1}\\int\\limits_{-1}^{1} K_\\text{int} dr\\, ds\\\\\n",
      " &= \\int\\limits_{-1}^{1}\\int\\limits_{-1}^{1} B^T C\\, B\\, dr\\, ds \\enspace .\n",
      "\\end{align*}$$"
     ]
    },
    {
     "cell_type": "code",
     "collapsed": false,
     "input": [
      "K = zeros(8,8)\n",
      "for i in range(8):\n",
      "    for j in range(8):\n",
      "        K[i,j] = integrate(K_int[i,j], (r,-1,1), (s,-1,1))\n",
      "        \n",
      "simplify(K)"
     ],
     "language": "python",
     "metadata": {},
     "outputs": [
      {
       "latex": [
        "$$\\left[\\begin{matrix}- \\nu + \\frac{2}{3} & - \\frac{\\nu}{4} + \\frac{1}{4} & - \\frac{1}{6} & \\frac{3 \\nu}{4} - \\frac{1}{4} & \\frac{\\nu}{2} - \\frac{1}{3} & \\frac{\\nu}{4} - \\frac{1}{4} & \\frac{\\nu}{2} - \\frac{1}{6} & - \\frac{3 \\nu}{4} + \\frac{1}{4}\\\\- \\frac{\\nu}{4} + \\frac{1}{4} & - \\nu + \\frac{2}{3} & - \\frac{3 \\nu}{4} + \\frac{1}{4} & \\frac{\\nu}{2} - \\frac{1}{6} & \\frac{\\nu}{4} - \\frac{1}{4} & \\frac{\\nu}{2} - \\frac{1}{3} & \\frac{3 \\nu}{4} - \\frac{1}{4} & - \\frac{1}{6}\\\\- \\frac{1}{6} & - \\frac{3 \\nu}{4} + \\frac{1}{4} & - \\nu + \\frac{2}{3} & \\frac{\\nu}{4} - \\frac{1}{4} & \\frac{\\nu}{2} - \\frac{1}{6} & \\frac{3 \\nu}{4} - \\frac{1}{4} & \\frac{\\nu}{2} - \\frac{1}{3} & - \\frac{\\nu}{4} + \\frac{1}{4}\\\\\\frac{3 \\nu}{4} - \\frac{1}{4} & \\frac{\\nu}{2} - \\frac{1}{6} & \\frac{\\nu}{4} - \\frac{1}{4} & - \\nu + \\frac{2}{3} & - \\frac{3 \\nu}{4} + \\frac{1}{4} & - \\frac{1}{6} & - \\frac{\\nu}{4} + \\frac{1}{4} & \\frac{\\nu}{2} - \\frac{1}{3}\\\\\\frac{\\nu}{2} - \\frac{1}{3} & \\frac{\\nu}{4} - \\frac{1}{4} & \\frac{\\nu}{2} - \\frac{1}{6} & - \\frac{3 \\nu}{4} + \\frac{1}{4} & - \\nu + \\frac{2}{3} & - \\frac{\\nu}{4} + \\frac{1}{4} & - \\frac{1}{6} & \\frac{3 \\nu}{4} - \\frac{1}{4}\\\\\\frac{\\nu}{4} - \\frac{1}{4} & \\frac{\\nu}{2} - \\frac{1}{3} & \\frac{3 \\nu}{4} - \\frac{1}{4} & - \\frac{1}{6} & - \\frac{\\nu}{4} + \\frac{1}{4} & - \\nu + \\frac{2}{3} & - \\frac{3 \\nu}{4} + \\frac{1}{4} & \\frac{\\nu}{2} - \\frac{1}{6}\\\\\\frac{\\nu}{2} - \\frac{1}{6} & \\frac{3 \\nu}{4} - \\frac{1}{4} & \\frac{\\nu}{2} - \\frac{1}{3} & - \\frac{\\nu}{4} + \\frac{1}{4} & - \\frac{1}{6} & - \\frac{3 \\nu}{4} + \\frac{1}{4} & - \\nu + \\frac{2}{3} & \\frac{\\nu}{4} - \\frac{1}{4}\\\\- \\frac{3 \\nu}{4} + \\frac{1}{4} & - \\frac{1}{6} & - \\frac{\\nu}{4} + \\frac{1}{4} & \\frac{\\nu}{2} - \\frac{1}{3} & \\frac{3 \\nu}{4} - \\frac{1}{4} & \\frac{\\nu}{2} - \\frac{1}{6} & \\frac{\\nu}{4} - \\frac{1}{4} & - \\nu + \\frac{2}{3}\\end{matrix}\\right]$$"
       ],
       "metadata": {},
       "output_type": "pyout",
       "png": "[encoded data removed]",
       "prompt_number": 10,
       "text": [
        "\u23a1              \u03bd   1               3\u22c5\u03bd   1     \u03bd   1      \u03bd   1      \u03bd   1    \n",
        "\u23a2-\u03bd + 2/3    - \u2500 + \u2500     -1/6      \u2500\u2500\u2500 - \u2500     \u2500 - \u2500      \u2500 - \u2500      \u2500 - \u2500    \n",
        "\u23a2              4   4                4    4     2   3      4   4      2   6    \n",
        "\u23a2                                                                             \n",
        "\u23a2   \u03bd   1                3\u22c5\u03bd   1    \u03bd   1      \u03bd   1      \u03bd   1     3\u22c5\u03bd   1   \n",
        "\u23a2 - \u2500 + \u2500   -\u03bd + 2/3   - \u2500\u2500\u2500 + \u2500    \u2500 - \u2500      \u2500 - \u2500      \u2500 - \u2500     \u2500\u2500\u2500 - \u2500   \n",
        "\u23a2   4   4                 4    4    2   6      4   4      2   3      4    4   \n",
        "\u23a2                                                                             \n",
        "\u23a2             3\u22c5\u03bd   1               \u03bd   1      \u03bd   1     3\u22c5\u03bd   1     \u03bd   1    \n",
        "\u23a2  -1/6     - \u2500\u2500\u2500 + \u2500  -\u03bd + 2/3     \u2500 - \u2500      \u2500 - \u2500     \u2500\u2500\u2500 - \u2500     \u2500 - \u2500    \n",
        "\u23a2              4    4               4   4      2   6      4    4     2   3    \n",
        "\u23a2                                                                             \n",
        "\u23a2 3\u22c5\u03bd   1     \u03bd   1      \u03bd   1                 3\u22c5\u03bd   1                \u03bd   1   \n",
        "\u23a2 \u2500\u2500\u2500 - \u2500     \u2500 - \u2500      \u2500 - \u2500    -\u03bd + 2/3   - \u2500\u2500\u2500 + \u2500    -1/6      - \u2500 + \u2500   \n",
        "\u23a2  4    4     2   6      4   4                  4    4                4   4   \n",
        "\u23a2                                                                             \n",
        "\u23a2  \u03bd   1      \u03bd   1      \u03bd   1      3\u22c5\u03bd   1                \u03bd   1              \n",
        "\u23a2  \u2500 - \u2500      \u2500 - \u2500      \u2500 - \u2500    - \u2500\u2500\u2500 + \u2500  -\u03bd + 2/3    - \u2500 + \u2500     -1/6     \n",
        "\u23a2  2   3      4   4      2   6       4    4                4   4              \n",
        "\u23a2                                                                             \n",
        "\u23a2  \u03bd   1      \u03bd   1     3\u22c5\u03bd   1                 \u03bd   1                3\u22c5\u03bd   1  \n",
        "\u23a2  \u2500 - \u2500      \u2500 - \u2500     \u2500\u2500\u2500 - \u2500     -1/6      - \u2500 + \u2500   -\u03bd + 2/3   - \u2500\u2500\u2500 + \u2500  \n",
        "\u23a2  4   4      2   3      4    4                 4   4                 4    4  \n",
        "\u23a2                                                                             \n",
        "\u23a2  \u03bd   1     3\u22c5\u03bd   1     \u03bd   1       \u03bd   1                3\u22c5\u03bd   1             \n",
        "\u23a2  \u2500 - \u2500     \u2500\u2500\u2500 - \u2500     \u2500 - \u2500     - \u2500 + \u2500     -1/6     - \u2500\u2500\u2500 + \u2500  -\u03bd + 2/3   \n",
        "\u23a2  2   6      4    4     2   3       4   4                 4    4             \n",
        "\u23a2                                                                             \n",
        "\u23a2  3\u22c5\u03bd   1                \u03bd   1     \u03bd   1     3\u22c5\u03bd   1     \u03bd   1      \u03bd   1    \n",
        "\u23a2- \u2500\u2500\u2500 + \u2500    -1/6      - \u2500 + \u2500     \u2500 - \u2500     \u2500\u2500\u2500 - \u2500     \u2500 - \u2500      \u2500 - \u2500    \n",
        "\u23a3   4    4                4   4     2   3      4    4     2   6      4   4    \n",
        "\n",
        "  3\u22c5\u03bd   1\u23a4\n",
        "- \u2500\u2500\u2500 + \u2500\u23a5\n",
        "   4    4\u23a5\n",
        "         \u23a5\n",
        "         \u23a5\n",
        "  -1/6   \u23a5\n",
        "         \u23a5\n",
        "         \u23a5\n",
        "   \u03bd   1 \u23a5\n",
        " - \u2500 + \u2500 \u23a5\n",
        "   4   4 \u23a5\n",
        "         \u23a5\n",
        "  \u03bd   1  \u23a5\n",
        "  \u2500 - \u2500  \u23a5\n",
        "  2   3  \u23a5\n",
        "         \u23a5\n",
        " 3\u22c5\u03bd   1 \u23a5\n",
        " \u2500\u2500\u2500 - \u2500 \u23a5\n",
        "  4    4 \u23a5\n",
        "         \u23a5\n",
        "  \u03bd   1  \u23a5\n",
        "  \u2500 - \u2500  \u23a5\n",
        "  2   6  \u23a5\n",
        "         \u23a5\n",
        "  \u03bd   1  \u23a5\n",
        "  \u2500 - \u2500  \u23a5\n",
        "  4   4  \u23a5\n",
        "         \u23a5\n",
        "         \u23a5\n",
        "-\u03bd + 2/3 \u23a5\n",
        "         \u23a6"
       ]
      }
     ],
     "prompt_number": 10
    },
    {
     "cell_type": "markdown",
     "metadata": {},
     "source": [
      "We can check some numerical vales for $E=8/3$ Pa, $\\nu=1/3$ and $\\rho=1$ kg\\m$^3$."
     ]
    },
    {
     "cell_type": "code",
     "collapsed": false,
     "input": [
      "K.subs([(E, S(8)/3), (nu, S(1)/3)])"
     ],
     "language": "python",
     "metadata": {},
     "outputs": [
      {
       "latex": [
        "$$\\left[\\begin{matrix}\\frac{1}{3} & \\frac{1}{6} & - \\frac{1}{6} & 0 & - \\frac{1}{6} & - \\frac{1}{6} & 0 & 0\\\\\\frac{1}{6} & \\frac{1}{3} & 0 & 0 & - \\frac{1}{6} & - \\frac{1}{6} & 0 & - \\frac{1}{6}\\\\- \\frac{1}{6} & 0 & \\frac{1}{3} & - \\frac{1}{6} & 0 & 0 & - \\frac{1}{6} & \\frac{1}{6}\\\\0 & 0 & - \\frac{1}{6} & \\frac{1}{3} & 0 & - \\frac{1}{6} & \\frac{1}{6} & - \\frac{1}{6}\\\\- \\frac{1}{6} & - \\frac{1}{6} & 0 & 0 & \\frac{1}{3} & \\frac{1}{6} & - \\frac{1}{6} & 0\\\\- \\frac{1}{6} & - \\frac{1}{6} & 0 & - \\frac{1}{6} & \\frac{1}{6} & \\frac{1}{3} & 0 & 0\\\\0 & 0 & - \\frac{1}{6} & \\frac{1}{6} & - \\frac{1}{6} & 0 & \\frac{1}{3} & - \\frac{1}{6}\\\\0 & - \\frac{1}{6} & \\frac{1}{6} & - \\frac{1}{6} & 0 & 0 & - \\frac{1}{6} & \\frac{1}{3}\\end{matrix}\\right]$$"
       ],
       "metadata": {},
       "output_type": "pyout",
       "png": "[encoded data removed]",
       "prompt_number": 11,
       "text": [
        "\u23a11/3   1/6   -1/6   0    -1/6  -1/6   0     0  \u23a4\n",
        "\u23a2                                              \u23a5\n",
        "\u23a21/6   1/3    0     0    -1/6  -1/6   0    -1/6\u23a5\n",
        "\u23a2                                              \u23a5\n",
        "\u23a2-1/6   0    1/3   -1/6   0     0    -1/6  1/6 \u23a5\n",
        "\u23a2                                              \u23a5\n",
        "\u23a2 0     0    -1/6  1/3    0    -1/6  1/6   -1/6\u23a5\n",
        "\u23a2                                              \u23a5\n",
        "\u23a2-1/6  -1/6   0     0    1/3   1/6   -1/6   0  \u23a5\n",
        "\u23a2                                              \u23a5\n",
        "\u23a2-1/6  -1/6   0    -1/6  1/6   1/3    0     0  \u23a5\n",
        "\u23a2                                              \u23a5\n",
        "\u23a2 0     0    -1/6  1/6   -1/6   0    1/3   -1/6\u23a5\n",
        "\u23a2                                              \u23a5\n",
        "\u23a3 0    -1/6  1/6   -1/6   0     0    -1/6  1/3 \u23a6"
       ]
      }
     ],
     "prompt_number": 11
    },
    {
     "cell_type": "code",
     "collapsed": false,
     "input": [
      "M.subs(rho, 1)"
     ],
     "language": "python",
     "metadata": {},
     "outputs": [
      {
       "latex": [
        "$$\\left[\\begin{matrix}\\frac{4}{9} & 0 & \\frac{2}{9} & 0 & \\frac{1}{9} & 0 & \\frac{2}{9} & 0\\\\0 & \\frac{4}{9} & 0 & \\frac{2}{9} & 0 & \\frac{1}{9} & 0 & \\frac{2}{9}\\\\\\frac{2}{9} & 0 & \\frac{4}{9} & 0 & \\frac{2}{9} & 0 & \\frac{1}{9} & 0\\\\0 & \\frac{2}{9} & 0 & \\frac{4}{9} & 0 & \\frac{2}{9} & 0 & \\frac{1}{9}\\\\\\frac{1}{9} & 0 & \\frac{2}{9} & 0 & \\frac{4}{9} & 0 & \\frac{2}{9} & 0\\\\0 & \\frac{1}{9} & 0 & \\frac{2}{9} & 0 & \\frac{4}{9} & 0 & \\frac{2}{9}\\\\\\frac{2}{9} & 0 & \\frac{1}{9} & 0 & \\frac{2}{9} & 0 & \\frac{4}{9} & 0\\\\0 & \\frac{2}{9} & 0 & \\frac{1}{9} & 0 & \\frac{2}{9} & 0 & \\frac{4}{9}\\end{matrix}\\right]$$"
       ],
       "metadata": {},
       "output_type": "pyout",
       "png": "[encoded data removed]",
       "prompt_number": 12,
       "text": [
        "\u23a14/9   0   2/9   0   1/9   0   2/9   0 \u23a4\n",
        "\u23a2                                      \u23a5\n",
        "\u23a2 0   4/9   0   2/9   0   1/9   0   2/9\u23a5\n",
        "\u23a2                                      \u23a5\n",
        "\u23a22/9   0   4/9   0   2/9   0   1/9   0 \u23a5\n",
        "\u23a2                                      \u23a5\n",
        "\u23a2 0   2/9   0   4/9   0   2/9   0   1/9\u23a5\n",
        "\u23a2                                      \u23a5\n",
        "\u23a21/9   0   2/9   0   4/9   0   2/9   0 \u23a5\n",
        "\u23a2                                      \u23a5\n",
        "\u23a2 0   1/9   0   2/9   0   4/9   0   2/9\u23a5\n",
        "\u23a2                                      \u23a5\n",
        "\u23a22/9   0   1/9   0   2/9   0   4/9   0 \u23a5\n",
        "\u23a2                                      \u23a5\n",
        "\u23a3 0   2/9   0   1/9   0   2/9   0   4/9\u23a6"
       ]
      }
     ],
     "prompt_number": 12
    },
    {
     "cell_type": "heading",
     "level": 2,
     "metadata": {},
     "source": [
      "Gauss integration"
     ]
    },
    {
     "cell_type": "markdown",
     "metadata": {},
     "source": [
      "The Gauss-Legendre quadrature approximates the integral:\n",
      "$$     \\int_{-1}^1 f(x)\\,dx \\approx \\sum_{i=1}^n w_i f(x_i)$$\n",
      "\n",
      "The nodes $x_i$ of an order $n$ quadrature rule are the roots of $P_n$\n",
      "and the weights $w_i$ are given by:\n",
      "$$w_i = \\frac{2}{\\left(1-x_i^2\\right) \\left(P'_n(x_i)\\right)^2}$$\n",
      "\n",
      "The weights and nodes are"
     ]
    },
    {
     "cell_type": "code",
     "collapsed": false,
     "input": [
      "wts = [[2], [1,1], [S(5)/9, S(8)/9, S(5)/9],\n",
      "       [(18+sqrt(30))/36,(18+sqrt(30))/36, (18-sqrt(30))/36, (18-sqrt(30))/36]\n",
      "       ]\n",
      "        \n",
      "pts = [[0], [-sqrt(S(1)/3), sqrt(S(1)/3)],\n",
      "       [-sqrt(S(3)/5), 0, sqrt(S(3)/5)],\n",
      "[-sqrt(S(3)/7 - S(2)/7*sqrt(S(6)/5)), sqrt(S(3)/7 - S(2)/7*sqrt(S(6)/5)),\n",
      "-sqrt(S(3)/7 + S(2)/7*sqrt(S(6)/5)), sqrt(S(3)/7 + S(2)/7*sqrt(S(6)/5))]]"
     ],
     "language": "python",
     "metadata": {},
     "outputs": [],
     "prompt_number": 13
    },
    {
     "cell_type": "code",
     "collapsed": false,
     "input": [
      "def num_int(n):\n",
      "    K_num = zeros(8,8)\n",
      "    for x_i, w_i in zip(pts[n-1], wts[n-1]):\n",
      "        for y_j, w_j in zip(pts[n-1], wts[n-1]):\n",
      "            K_num = K_num + w_i*w_j*K_int.subs([(r,x_i), (s,y_j)])\n",
      "\n",
      "    return simplify(K_num)\n",
      "    "
     ],
     "language": "python",
     "metadata": {},
     "outputs": [],
     "prompt_number": 14
    },
    {
     "cell_type": "code",
     "collapsed": false,
     "input": [
      "K_num = num_int(3)\n",
      "K_num - K"
     ],
     "language": "python",
     "metadata": {},
     "outputs": [
      {
       "latex": [
        "$$\\left[\\begin{matrix}0 & 0 & 0 & 0 & 0 & 0 & 0 & 0\\\\0 & 0 & 0 & 0 & 0 & 0 & 0 & 0\\\\0 & 0 & 0 & 0 & 0 & 0 & 0 & 0\\\\0 & 0 & 0 & 0 & 0 & 0 & 0 & 0\\\\0 & 0 & 0 & 0 & 0 & 0 & 0 & 0\\\\0 & 0 & 0 & 0 & 0 & 0 & 0 & 0\\\\0 & 0 & 0 & 0 & 0 & 0 & 0 & 0\\\\0 & 0 & 0 & 0 & 0 & 0 & 0 & 0\\end{matrix}\\right]$$"
       ],
       "metadata": {},
       "output_type": "pyout",
       "png": "[encoded data removed]",
       "prompt_number": 15,
       "text": [
        "\u23a10  0  0  0  0  0  0  0\u23a4\n",
        "\u23a2                      \u23a5\n",
        "\u23a20  0  0  0  0  0  0  0\u23a5\n",
        "\u23a2                      \u23a5\n",
        "\u23a20  0  0  0  0  0  0  0\u23a5\n",
        "\u23a2                      \u23a5\n",
        "\u23a20  0  0  0  0  0  0  0\u23a5\n",
        "\u23a2                      \u23a5\n",
        "\u23a20  0  0  0  0  0  0  0\u23a5\n",
        "\u23a2                      \u23a5\n",
        "\u23a20  0  0  0  0  0  0  0\u23a5\n",
        "\u23a2                      \u23a5\n",
        "\u23a20  0  0  0  0  0  0  0\u23a5\n",
        "\u23a2                      \u23a5\n",
        "\u23a30  0  0  0  0  0  0  0\u23a6"
       ]
      }
     ],
     "prompt_number": 15
    },
    {
     "cell_type": "heading",
     "level": 3,
     "metadata": {},
     "source": [
      "Best approach"
     ]
    },
    {
     "cell_type": "markdown",
     "metadata": {},
     "source": [
      "Use Python built-in functions"
     ]
    },
    {
     "cell_type": "code",
     "collapsed": false,
     "input": [
      "from sympy.integrals.quadrature import gauss_legendre"
     ],
     "language": "python",
     "metadata": {},
     "outputs": [],
     "prompt_number": 16
    },
    {
     "cell_type": "code",
     "collapsed": false,
     "input": [
      "x, w = gauss_legendre(5, 15)\n",
      "print x\n",
      "print w"
     ],
     "language": "python",
     "metadata": {},
     "outputs": [
      {
       "output_type": "stream",
       "stream": "stdout",
       "text": [
        "[-0.906179845938664, -0.538469310105683, 0, 0.538469310105683, 0.906179845938664]\n",
        "[0.236926885056189, 0.478628670499366, 0.568888888888889, 0.478628670499366, 0.236926885056189]\n"
       ]
      }
     ],
     "prompt_number": 17
    },
    {
     "cell_type": "heading",
     "level": 2,
     "metadata": {},
     "source": [
      "References"
     ]
    },
    {
     "cell_type": "markdown",
     "metadata": {},
     "source": [
      "[1] http://en.wikipedia.org/wiki/Gaussian_quadrature"
     ]
    },
    {
     "cell_type": "code",
     "collapsed": false,
     "input": [
      "from IPython.core.display import HTML\n",
      "def css_styling():\n",
      "    styles = open('./styles/custom_barba.css', 'r').read()\n",
      "    return HTML(styles)\n",
      "css_styling()"
     ],
     "language": "python",
     "metadata": {},
     "outputs": [
      {
       "html": [
        "\n",
        "<link href='http://fonts.googleapis.com/css?family=Fenix' rel='stylesheet' type='text/css'>\n",
        "<link href='http://fonts.googleapis.com/css?family=Alegreya+Sans:100,300,400,500,700,800,900,100italic,300italic,400italic,500italic,700italic,800italic,900italic' rel='stylesheet' type='text/css'>\n",
        "<link href='http://fonts.googleapis.com/css?family=Source+Code+Pro:300,400' rel='stylesheet' type='text/css'>\n",
        "<style>\n",
        "/* Based on Lorena Barba template available at: https://github.com/barbagroup/AeroPython/blob/master/styles/custom.css*/\n",
        "@font-face {\n",
        "font-family: \"Computer Modern\";\n",
        "src: url('http://mirrors.ctan.org/fonts/cm-unicode/fonts/otf/cmunss.otf');\n",
        "}\n",
        "div.cell{\n",
        "width:800px;\n",
        "margin-left:16% !important;\n",
        "margin-right:auto;\n",
        "}\n",
        "h1 {\n",
        "font-family: 'Alegreya Sans', sans-serif;\n",
        "}\n",
        "h2 {\n",
        "font-family: 'Fenix', serif;\n",
        "}\n",
        "h3{\n",
        "font-family: 'Fenix', serif;\n",
        "margin-top:12px;\n",
        "margin-bottom: 3px;\n",
        "}\n",
        "h4{\n",
        "font-family: 'Fenix', serif;\n",
        "}\n",
        "h5 {\n",
        "font-family: 'Alegreya Sans', sans-serif;\n",
        "}\t\n",
        "div.text_cell_render{\n",
        "font-family: 'Alegreya Sans',Computer Modern, \"Helvetica Neue\", Arial, Helvetica, Geneva, sans-serif;\n",
        "line-height: 135%;\n",
        "font-size: 120%;\n",
        "width:600px;\n",
        "margin-left:auto;\n",
        "margin-right:auto;\n",
        "}\n",
        ".CodeMirror{\n",
        "font-family: \"Source Code Pro\";\n",
        "font-size: 90%;\n",
        "}\n",
        "/* .prompt{\n",
        "display: None;\n",
        "}*/\n",
        ".text_cell_render h1 {\n",
        "font-weight: 200;\n",
        "font-size: 50pt;\n",
        "line-height: 100%;\n",
        "color:#CD2305;\n",
        "margin-bottom: 0.5em;\n",
        "margin-top: 0.5em;\n",
        "display: block;\n",
        "}\t\n",
        ".text_cell_render h5 {\n",
        "font-weight: 300;\n",
        "font-size: 16pt;\n",
        "color: #CD2305;\n",
        "font-style: italic;\n",
        "margin-bottom: .5em;\n",
        "margin-top: 0.5em;\n",
        "display: block;\n",
        "}\n",
        ".warning{\n",
        "color: rgb( 240, 20, 20 )\n",
        "}\n",
        "</style>\n",
        "<script>\n",
        "MathJax.Hub.Config({\n",
        "TeX: {\n",
        "extensions: [\"AMSmath.js\"]\n",
        "},\n",
        "tex2jax: {\n",
        "inlineMath: [ ['$','$'], [\"\\\\(\",\"\\\\)\"] ],\n",
        "displayMath: [ ['$$','$$'], [\"\\\\[\",\"\\\\]\"] ]\n",
        "},\n",
        "displayAlign: 'center', // Change this to 'center' to center equations.\n",
        "\"HTML-CSS\": {\n",
        "styles: {'.MathJax_Display': {\"margin\": 4}}\n",
        "}\n",
        "});\n",
        "</script>\n",
        "\n"
       ],
       "metadata": {},
       "output_type": "pyout",
       "prompt_number": 18,
       "text": [
        "<IPython.core.display.HTML at 0x686c450>"
       ]
      }
     ],
     "prompt_number": 18
    }
   ],
   "metadata": {}
  }
 ]
}